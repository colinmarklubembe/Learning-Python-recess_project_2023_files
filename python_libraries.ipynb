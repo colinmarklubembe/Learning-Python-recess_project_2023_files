{
 "cells": [
  {
   "cell_type": "code",
   "execution_count": 1,
   "metadata": {
    "ExecuteTime": {
     "end_time": "2023-07-06T13:15:44.022062556Z",
     "start_time": "2023-07-06T13:15:44.003030230Z"
    }
   },
   "outputs": [],
   "source": [
    "#import libraries\n",
    "import pandas as pd\n",
    "import numpy as np\n",
    "import matplotlib.pyplot as plt\n",
    "import seaborn as sns"
   ]
  },
  {
   "cell_type": "code",
   "execution_count": 2,
   "metadata": {
    "ExecuteTime": {
     "end_time": "2023-07-06T13:15:44.044092903Z",
     "start_time": "2023-07-06T13:15:44.024698263Z"
    }
   },
   "outputs": [],
   "source": [
    "#Control Display of seaborn data\n",
    "pd.options.display.max_columns = 50\n",
    "sns.set(style='darkgrid', rc={\"axes.facecolor\": \"#CAF1DE\"})"
   ]
  },
  {
   "cell_type": "code",
   "execution_count": 3,
   "metadata": {
    "ExecuteTime": {
     "end_time": "2023-07-06T13:15:44.224659094Z",
     "start_time": "2023-07-06T13:15:44.041496829Z"
    }
   },
   "outputs": [
    {
     "data": {
      "text/html": [
       "<div>\n",
       "<style scoped>\n",
       "    .dataframe tbody tr th:only-of-type {\n",
       "        vertical-align: middle;\n",
       "    }\n",
       "\n",
       "    .dataframe tbody tr th {\n",
       "        vertical-align: top;\n",
       "    }\n",
       "\n",
       "    .dataframe thead th {\n",
       "        text-align: right;\n",
       "    }\n",
       "</style>\n",
       "<table border=\"1\" class=\"dataframe\">\n",
       "  <thead>\n",
       "    <tr style=\"text-align: right;\">\n",
       "      <th></th>\n",
       "      <th>Timestamp</th>\n",
       "      <th>What is your gender?</th>\n",
       "      <th>Age</th>\n",
       "      <th>What is your emotion?</th>\n",
       "      <th>Year of birth</th>\n",
       "      <th>What is your CGPA?</th>\n",
       "      <th>Do you have a Girl Friend or BOY Friend</th>\n",
       "      <th>Do you have Depression?</th>\n",
       "      <th>Do you have Anxiety?</th>\n",
       "      <th>Do you have Panic attack?</th>\n",
       "      <th>Did you have seek any specialist for a treatment?</th>\n",
       "    </tr>\n",
       "  </thead>\n",
       "  <tbody>\n",
       "    <tr>\n",
       "      <th>0</th>\n",
       "      <td>05/07/2023 09:38:39</td>\n",
       "      <td>Male</td>\n",
       "      <td>21</td>\n",
       "      <td>Content</td>\n",
       "      <td>2002</td>\n",
       "      <td>4.22</td>\n",
       "      <td>No</td>\n",
       "      <td>No</td>\n",
       "      <td>Yes</td>\n",
       "      <td>Yes</td>\n",
       "      <td>Yes</td>\n",
       "    </tr>\n",
       "    <tr>\n",
       "      <th>1</th>\n",
       "      <td>05/07/2023 09:38:57</td>\n",
       "      <td>Marabou stock</td>\n",
       "      <td>45</td>\n",
       "      <td>Weird</td>\n",
       "      <td>2100</td>\n",
       "      <td>8.9</td>\n",
       "      <td>Yes</td>\n",
       "      <td>Yes</td>\n",
       "      <td>Yes</td>\n",
       "      <td>Yes</td>\n",
       "      <td>No</td>\n",
       "    </tr>\n",
       "    <tr>\n",
       "      <th>2</th>\n",
       "      <td>05/07/2023 09:39:09</td>\n",
       "      <td>Female</td>\n",
       "      <td>20</td>\n",
       "      <td>Happy</td>\n",
       "      <td>2002</td>\n",
       "      <td>3.98</td>\n",
       "      <td>No</td>\n",
       "      <td>No</td>\n",
       "      <td>Yes</td>\n",
       "      <td>Yes</td>\n",
       "      <td>No</td>\n",
       "    </tr>\n",
       "    <tr>\n",
       "      <th>3</th>\n",
       "      <td>05/07/2023 09:39:12</td>\n",
       "      <td>Male</td>\n",
       "      <td>21</td>\n",
       "      <td>Happy</td>\n",
       "      <td>2003</td>\n",
       "      <td>4.37</td>\n",
       "      <td>No</td>\n",
       "      <td>No</td>\n",
       "      <td>No</td>\n",
       "      <td>No</td>\n",
       "      <td>Nope</td>\n",
       "    </tr>\n",
       "    <tr>\n",
       "      <th>4</th>\n",
       "      <td>05/07/2023 09:39:14</td>\n",
       "      <td>Female</td>\n",
       "      <td>21</td>\n",
       "      <td>Happy</td>\n",
       "      <td>2002</td>\n",
       "      <td>3.63</td>\n",
       "      <td>No</td>\n",
       "      <td>No</td>\n",
       "      <td>No</td>\n",
       "      <td>No</td>\n",
       "      <td>No</td>\n",
       "    </tr>\n",
       "  </tbody>\n",
       "</table>\n",
       "</div>"
      ],
      "text/plain": [
       "             Timestamp What is your gender?  Age What is your emotion?  \\\n",
       "0  05/07/2023 09:38:39                 Male   21               Content   \n",
       "1  05/07/2023 09:38:57        Marabou stock   45                 Weird   \n",
       "2  05/07/2023 09:39:09              Female    20                 Happy   \n",
       "3  05/07/2023 09:39:12                 Male   21                 Happy   \n",
       "4  05/07/2023 09:39:14               Female   21                 Happy   \n",
       "\n",
       "  Year of birth What is your CGPA? Do you have a Girl Friend or BOY Friend  \\\n",
       "0          2002               4.22                                      No   \n",
       "1          2100                8.9                                     Yes   \n",
       "2          2002               3.98                                      No   \n",
       "3          2003               4.37                                      No   \n",
       "4          2002               3.63                                      No   \n",
       "\n",
       "  Do you have Depression? Do you have Anxiety? Do you have Panic attack?  \\\n",
       "0                      No                  Yes                       Yes   \n",
       "1                     Yes                  Yes                       Yes   \n",
       "2                      No                  Yes                       Yes   \n",
       "3                      No                   No                        No   \n",
       "4                      No                   No                        No   \n",
       "\n",
       "  Did you have seek any specialist for a treatment?   \n",
       "0                                                Yes  \n",
       "1                                                 No  \n",
       "2                                                 No  \n",
       "3                                               Nope  \n",
       "4                                                 No  "
      ]
     },
     "execution_count": 3,
     "metadata": {},
     "output_type": "execute_result"
    }
   ],
   "source": [
    "#read data\n",
    "df = pd.read_csv('datasets/bse_dataset.csv')\n",
    "df.head()"
   ]
  },
  {
   "cell_type": "code",
   "execution_count": 4,
   "metadata": {
    "ExecuteTime": {
     "end_time": "2023-07-06T13:15:44.227314136Z",
     "start_time": "2023-07-06T13:15:44.123887174Z"
    }
   },
   "outputs": [
    {
     "data": {
      "text/plain": [
       "(97, 11)"
      ]
     },
     "execution_count": 4,
     "metadata": {},
     "output_type": "execute_result"
    }
   ],
   "source": [
    "#check shape of data\n",
    "df.shape"
   ]
  },
  {
   "cell_type": "code",
   "execution_count": 5,
   "metadata": {
    "ExecuteTime": {
     "end_time": "2023-07-06T13:15:44.308305922Z",
     "start_time": "2023-07-06T13:15:44.148874936Z"
    }
   },
   "outputs": [
    {
     "data": {
      "text/plain": [
       "Index(['Timestamp', 'What is your gender?', 'Age', 'What is your emotion?',\n",
       "       'Year of birth', 'What is your CGPA?',\n",
       "       'Do you have a Girl Friend or BOY Friend', 'Do you have Depression?',\n",
       "       'Do you have Anxiety?', 'Do you have Panic attack?',\n",
       "       'Did you have seek any specialist for a treatment? '],\n",
       "      dtype='object')"
      ]
     },
     "execution_count": 5,
     "metadata": {},
     "output_type": "execute_result"
    }
   ],
   "source": [
    "#check columns of data\n",
    "df.columns"
   ]
  },
  {
   "cell_type": "code",
   "execution_count": 6,
   "metadata": {
    "ExecuteTime": {
     "end_time": "2023-07-06T13:15:44.312334451Z",
     "start_time": "2023-07-06T13:15:44.209026668Z"
    }
   },
   "outputs": [
    {
     "data": {
      "text/plain": [
       "What is your emotion?                                 1\n",
       "Timestamp                                             0\n",
       "What is your gender?                                  0\n",
       "Age                                                   0\n",
       "Year of birth                                         0\n",
       "What is your CGPA?                                    0\n",
       "Do you have a Girl Friend or BOY Friend               0\n",
       "Do you have Depression?                               0\n",
       "Do you have Anxiety?                                  0\n",
       "Do you have Panic attack?                             0\n",
       "Did you have seek any specialist for a treatment?     0\n",
       "dtype: int64"
      ]
     },
     "execution_count": 6,
     "metadata": {},
     "output_type": "execute_result"
    }
   ],
   "source": [
    "#check for null values\n",
    "df.isnull().sum().sort_values(ascending=False)"
   ]
  },
  {
   "cell_type": "code",
   "execution_count": 7,
   "metadata": {
    "ExecuteTime": {
     "end_time": "2023-07-06T13:15:44.667064746Z",
     "start_time": "2023-07-06T13:15:44.237444499Z"
    }
   },
   "outputs": [
    {
     "name": "stdout",
     "output_type": "stream",
     "text": [
      "<class 'pandas.core.frame.DataFrame'>\n",
      "RangeIndex: 97 entries, 0 to 96\n",
      "Data columns (total 11 columns):\n",
      " #   Column                                              Non-Null Count  Dtype \n",
      "---  ------                                              --------------  ----- \n",
      " 0   Timestamp                                           97 non-null     object\n",
      " 1   What is your gender?                                97 non-null     object\n",
      " 2   Age                                                 97 non-null     int64 \n",
      " 3   What is your emotion?                               96 non-null     object\n",
      " 4   Year of birth                                       97 non-null     object\n",
      " 5   What is your CGPA?                                  97 non-null     object\n",
      " 6   Do you have a Girl Friend or BOY Friend             97 non-null     object\n",
      " 7   Do you have Depression?                             97 non-null     object\n",
      " 8   Do you have Anxiety?                                97 non-null     object\n",
      " 9   Do you have Panic attack?                           97 non-null     object\n",
      " 10  Did you have seek any specialist for a treatment?   97 non-null     object\n",
      "dtypes: int64(1), object(10)\n",
      "memory usage: 8.5+ KB\n"
     ]
    }
   ],
   "source": [
    "#check for basic information\n",
    "df.info()"
   ]
  },
  {
   "cell_type": "code",
   "execution_count": 8,
   "metadata": {
    "ExecuteTime": {
     "end_time": "2023-07-06T13:15:44.669646987Z",
     "start_time": "2023-07-06T13:15:44.246663510Z"
    }
   },
   "outputs": [
    {
     "data": {
      "text/plain": [
       "What is your emotion?                                 1\n",
       "Timestamp                                             0\n",
       "What is your gender?                                  0\n",
       "Age                                                   0\n",
       "Year of birth                                         0\n",
       "What is your CGPA?                                    0\n",
       "Do you have a Girl Friend or BOY Friend               0\n",
       "Do you have Depression?                               0\n",
       "Do you have Anxiety?                                  0\n",
       "Do you have Panic attack?                             0\n",
       "Did you have seek any specialist for a treatment?     0\n",
       "dtype: int64"
      ]
     },
     "execution_count": 8,
     "metadata": {},
     "output_type": "execute_result"
    }
   ],
   "source": [
    "#check null values\n",
    "df.isnull().sum().sort_values(ascending=False)"
   ]
  },
  {
   "cell_type": "code",
   "execution_count": 9,
   "metadata": {
    "ExecuteTime": {
     "end_time": "2023-07-06T13:15:44.671949793Z",
     "start_time": "2023-07-06T13:15:44.278025364Z"
    }
   },
   "outputs": [
    {
     "name": "stdout",
     "output_type": "stream",
     "text": [
      "What is your emotion? null rate: 1.03%\n"
     ]
    }
   ],
   "source": [
    "#check null values in percentage\n",
    "for i in df.columns:\n",
    "    null_rate = df[i].isnull().sum() / len(df) * 100\n",
    "    if null_rate > 0:\n",
    "        print(\"{} null rate: {}%\".format(i, round(null_rate,2)))"
   ]
  },
  {
   "cell_type": "code",
   "execution_count": 10,
   "metadata": {
    "ExecuteTime": {
     "end_time": "2023-07-06T13:15:45.743133851Z",
     "start_time": "2023-07-06T13:15:44.322092686Z"
    }
   },
   "outputs": [
    {
     "data": {
      "image/png": "[encoded data removed]",
      "text/plain": [
       "<Figure size 1000x500 with 1 Axes>"
      ]
     },
     "metadata": {},
     "output_type": "display_data"
    }
   ],
   "source": [
    "#chech for null values in figures\n",
    "plt.figure(figsize=(10,5))\n",
    "sns.heatmap(df.isnull(), cbar=False)\n",
    "plt.show()"
   ]
  },
  {
   "cell_type": "code",
   "execution_count": 11,
   "metadata": {
    "ExecuteTime": {
     "end_time": "2023-07-06T13:15:45.745681479Z",
     "start_time": "2023-07-06T13:15:45.685878397Z"
    }
   },
   "outputs": [
    {
     "data": {
      "text/plain": [
       "0"
      ]
     },
     "execution_count": 11,
     "metadata": {},
     "output_type": "execute_result"
    }
   ],
   "source": [
    "#checking for duplicate values\n",
    "df.duplicated().sum()"
   ]
  },
  {
   "cell_type": "code",
   "execution_count": 12,
   "metadata": {
    "ExecuteTime": {
     "end_time": "2023-07-06T13:15:45.858290324Z",
     "start_time": "2023-07-06T13:15:45.715157167Z"
    }
   },
   "outputs": [
    {
     "data": {
      "text/plain": [
       "Timestamp                                             90\n",
       "What is your gender?                                  10\n",
       "Age                                                   13\n",
       "What is your emotion?                                 50\n",
       "Year of birth                                         18\n",
       "What is your CGPA?                                    61\n",
       "Do you have a Girl Friend or BOY Friend               14\n",
       "Do you have Depression?                               13\n",
       "Do you have Anxiety?                                  18\n",
       "Do you have Panic attack?                             13\n",
       "Did you have seek any specialist for a treatment?      9\n",
       "dtype: int64"
      ]
     },
     "execution_count": 12,
     "metadata": {},
     "output_type": "execute_result"
    }
   ],
   "source": [
    "#check for unique values\n",
    "df.nunique()"
   ]
  },
  {
   "cell_type": "code",
   "execution_count": 13,
   "metadata": {
    "ExecuteTime": {
     "end_time": "2023-07-06T13:15:46.975474076Z",
     "start_time": "2023-07-06T13:15:45.800003361Z"
    }
   },
   "outputs": [
    {
     "data": {
      "text/html": [
       "<div>\n",
       "<style scoped>\n",
       "    .dataframe tbody tr th:only-of-type {\n",
       "        vertical-align: middle;\n",
       "    }\n",
       "\n",
       "    .dataframe tbody tr th {\n",
       "        vertical-align: top;\n",
       "    }\n",
       "\n",
       "    .dataframe thead th {\n",
       "        text-align: right;\n",
       "    }\n",
       "</style>\n",
       "<table border=\"1\" class=\"dataframe\">\n",
       "  <thead>\n",
       "    <tr style=\"text-align: right;\">\n",
       "      <th></th>\n",
       "      <th>Age</th>\n",
       "    </tr>\n",
       "  </thead>\n",
       "  <tbody>\n",
       "    <tr>\n",
       "      <th>count</th>\n",
       "      <td>97.000000</td>\n",
       "    </tr>\n",
       "    <tr>\n",
       "      <th>mean</th>\n",
       "      <td>22.917526</td>\n",
       "    </tr>\n",
       "    <tr>\n",
       "      <th>std</th>\n",
       "      <td>6.277722</td>\n",
       "    </tr>\n",
       "    <tr>\n",
       "      <th>min</th>\n",
       "      <td>19.000000</td>\n",
       "    </tr>\n",
       "    <tr>\n",
       "      <th>25%</th>\n",
       "      <td>21.000000</td>\n",
       "    </tr>\n",
       "    <tr>\n",
       "      <th>50%</th>\n",
       "      <td>21.000000</td>\n",
       "    </tr>\n",
       "    <tr>\n",
       "      <th>75%</th>\n",
       "      <td>22.000000</td>\n",
       "    </tr>\n",
       "    <tr>\n",
       "      <th>max</th>\n",
       "      <td>68.000000</td>\n",
       "    </tr>\n",
       "  </tbody>\n",
       "</table>\n",
       "</div>"
      ],
      "text/plain": [
       "             Age\n",
       "count  97.000000\n",
       "mean   22.917526\n",
       "std     6.277722\n",
       "min    19.000000\n",
       "25%    21.000000\n",
       "50%    21.000000\n",
       "75%    22.000000\n",
       "max    68.000000"
      ]
     },
     "execution_count": 13,
     "metadata": {},
     "output_type": "execute_result"
    }
   ],
   "source": [
    "#describe data\n",
    "df.describe()"
   ]
  },
  {
   "cell_type": "code",
   "execution_count": 14,
   "metadata": {
    "ExecuteTime": {
     "end_time": "2023-07-06T13:15:46.977744483Z",
     "start_time": "2023-07-06T13:15:45.801084339Z"
    }
   },
   "outputs": [
    {
     "name": "stdout",
     "output_type": "stream",
     "text": [
      "Timestamp ------- ['05/07/2023 09:38:39' '05/07/2023 09:38:57' '05/07/2023 09:39:09'\n",
      " '05/07/2023 09:39:12' '05/07/2023 09:39:14' '05/07/2023 09:39:20'\n",
      " '05/07/2023 09:39:21' '05/07/2023 09:39:23' '05/07/2023 09:39:26'\n",
      " '05/07/2023 09:39:27' '05/07/2023 09:39:28' '05/07/2023 09:39:33'\n",
      " '05/07/2023 09:39:38' '05/07/2023 09:39:40' '05/07/2023 09:39:45'\n",
      " '05/07/2023 09:39:46' '05/07/2023 09:39:47' '05/07/2023 09:39:49'\n",
      " '05/07/2023 09:39:50' '05/07/2023 09:39:54' '05/07/2023 09:39:56'\n",
      " '05/07/2023 09:40:00' '05/07/2023 09:40:01' '05/07/2023 09:40:02'\n",
      " '05/07/2023 09:40:08' '05/07/2023 09:40:10' '05/07/2023 09:40:12'\n",
      " '05/07/2023 09:40:13' '05/07/2023 09:40:16' '05/07/2023 09:40:25'\n",
      " '05/07/2023 09:40:26' '05/07/2023 09:40:27' '05/07/2023 09:40:33'\n",
      " '05/07/2023 09:40:34' '05/07/2023 09:40:40' '05/07/2023 09:40:42'\n",
      " '05/07/2023 09:40:46' '05/07/2023 09:40:47' '05/07/2023 09:40:54'\n",
      " '05/07/2023 09:40:59' '05/07/2023 09:41:00' '05/07/2023 09:41:01'\n",
      " '05/07/2023 09:41:05' '05/07/2023 09:41:06' '05/07/2023 09:41:07'\n",
      " '05/07/2023 09:41:08' '05/07/2023 09:41:11' '05/07/2023 09:41:18'\n",
      " '05/07/2023 09:41:19' '05/07/2023 09:41:20' '05/07/2023 09:41:25'\n",
      " '05/07/2023 09:41:30' '05/07/2023 09:41:31' '05/07/2023 09:41:33'\n",
      " '05/07/2023 09:41:35' '05/07/2023 09:41:36' '05/07/2023 09:41:40'\n",
      " '05/07/2023 09:41:41' '05/07/2023 09:41:42' '05/07/2023 09:41:47'\n",
      " '05/07/2023 09:41:56' '05/07/2023 09:41:58' '05/07/2023 09:42:04'\n",
      " '05/07/2023 09:42:15' '05/07/2023 09:42:17' '05/07/2023 09:42:39'\n",
      " '05/07/2023 09:42:48' '05/07/2023 09:43:05' '05/07/2023 09:43:08'\n",
      " '05/07/2023 09:43:22' '05/07/2023 09:43:36' '05/07/2023 09:43:56'\n",
      " '05/07/2023 09:44:09' '05/07/2023 09:44:14' '05/07/2023 09:44:15'\n",
      " '05/07/2023 09:44:35' '05/07/2023 09:45:13' '05/07/2023 09:45:38'\n",
      " '05/07/2023 09:45:40' '05/07/2023 09:49:52' '05/07/2023 09:51:39'\n",
      " '05/07/2023 09:51:52' '05/07/2023 09:52:27' '05/07/2023 09:52:57'\n",
      " '05/07/2023 09:53:52' '05/07/2023 09:53:56' '05/07/2023 09:54:13'\n",
      " '05/07/2023 09:54:28' '05/07/2023 09:54:36' '05/07/2023 09:54:52']\n",
      "What is your gender? ------- ['Male' 'Marabou stock' 'Female ' 'Female' 'female' 'MALE' 'FEMALE' 'male'\n",
      " 'Yes' 'M']\n",
      "Age ------- [21 45 20 23 22 24 25 28 19 50 30 68 29]\n",
      "What is your emotion? ------- ['Content' 'Weird' 'Happy' 'Happy ' 'irritated ' 'In a state of wonder'\n",
      " 'Sad' 'happy' 'Moody' 'fine' 'TIRED FOR NOW' 'Jolly' 'Frustrated'\n",
      " 'Anxious' 'HAPPY' 'calm' 'sad' 'Not sure' 'I hate nosense ' 'Joyful'\n",
      " 'Nonchalant ' 'excited' 'stressed' 'Relaxed' 'Angry ' 'leaning'\n",
      " 'Disgusted' 'Tired' 'Upset' 'Anger' 'angry' 'Sad ' 'Lonely' 'Happiness'\n",
      " 'sleepy' 'tired' 'stress' 'unhappy' 'happy ' 'care' nan 'Afraid '\n",
      " 'Scared' 'HAPPY ' 'Joy' 'Lonely ' 'panic' 'Hopeful' 'Fighting poverty'\n",
      " 'good and bad' 'hunger']\n",
      "Year of birth ------- ['2002' '2100' '2003' '2000' '2001' '1998' '1995' '2004' '1999' '2022'\n",
      " '1970' '18/11/1993' '5.10.2000' '10th/04/2001' '1st July 2002' '1953'\n",
      " '1994' '2023']\n",
      "What is your CGPA? ------- ['4.22' '8.9' '3.98' '4.37' '3.63' '3.8' '3.88' '3.79' '4.7' '4' '3.9'\n",
      " '3.56' '5' '3' '4.5' '4.68' '4.28' '3.76' '2.1' '3.7' '3.5' '4......'\n",
      " '3.6' '3.74' '3.67' '4.08' '4.16' '4.4' '4.6' '3.92' '3.87' '1.3' '4.65'\n",
      " '4.74' '4.03' '3.71' '4.1' '2.5' '2' '3.4' '4.26' '3.75' '4.2' '3.85'\n",
      " '3.1' '4.46' '3.18' '1' '3.66' '4.8' '4.9' '4.25' '4.52' '3.11' '4.83'\n",
      " '2.79' '3.3' '2.3' '3.78' \"I don't know yet\" '3.12']\n",
      "Do you have a Girl Friend or BOY Friend ------- ['No' 'Yes' 'no' 'Nope' 'yes' 'NO' 'YES' 'Yes ' 'Am a girl' 'Am a girl '\n",
      " 'Sure, multiple girlfriends' 'Girl friends are thieves'\n",
      " 'Namiiro Zahara Bidin' 'ARI']\n",
      "Do you have Depression? ------- ['No' 'Yes' 'no' 'Nope' \"don't know\" 'NO' 'MAYBE' 'yes' 'Jo' 'none'\n",
      " 'Probably' 'abit' 'NO ']\n",
      "Do you have Anxiety? ------- ['Yes' 'No' 'no' \"I'm calm\" 'yes' 'KINDA' 'YES' 'No ' 'none' 'Yes '\n",
      " 'sometimes' 'Sometimes' 'not so ' 'swimming' 'Nope' 'NO' 'A little '\n",
      " 'yeah']\n",
      "Do you have Panic attack? ------- ['Yes' 'No' 'yes ' 'Naaah' 'no' 'NO' 'yes' 'No ' 'none' 'YesNo' 'never'\n",
      " 'Nope ' 'nah']\n",
      "Did you have seek any specialist for a treatment?  ------- ['Yes' 'No' 'Nope' 'yes' 'YES' 'NO' 'no' 'No ' 'yeah']\n"
     ]
    }
   ],
   "source": [
    "#check unique values using for loop\n",
    "for i in df.columns:\n",
    "    print(i, \"-------\", df[i].unique())"
   ]
  },
  {
   "cell_type": "code",
   "execution_count": 15,
   "metadata": {
    "ExecuteTime": {
     "end_time": "2023-07-06T13:15:46.979879847Z",
     "start_time": "2023-07-06T13:15:45.847876508Z"
    }
   },
   "outputs": [
    {
     "data": {
      "text/html": [
       "<div>\n",
       "<style scoped>\n",
       "    .dataframe tbody tr th:only-of-type {\n",
       "        vertical-align: middle;\n",
       "    }\n",
       "\n",
       "    .dataframe tbody tr th {\n",
       "        vertical-align: top;\n",
       "    }\n",
       "\n",
       "    .dataframe thead th {\n",
       "        text-align: right;\n",
       "    }\n",
       "</style>\n",
       "<table border=\"1\" class=\"dataframe\">\n",
       "  <thead>\n",
       "    <tr style=\"text-align: right;\">\n",
       "      <th></th>\n",
       "      <th>count</th>\n",
       "      <th>unique</th>\n",
       "      <th>top</th>\n",
       "      <th>freq</th>\n",
       "      <th>mean</th>\n",
       "      <th>std</th>\n",
       "      <th>min</th>\n",
       "      <th>25%</th>\n",
       "      <th>50%</th>\n",
       "      <th>75%</th>\n",
       "      <th>max</th>\n",
       "    </tr>\n",
       "  </thead>\n",
       "  <tbody>\n",
       "    <tr>\n",
       "      <th>Timestamp</th>\n",
       "      <td>97</td>\n",
       "      <td>90</td>\n",
       "      <td>05/07/2023 09:40:42</td>\n",
       "      <td>2</td>\n",
       "      <td>NaN</td>\n",
       "      <td>NaN</td>\n",
       "      <td>NaN</td>\n",
       "      <td>NaN</td>\n",
       "      <td>NaN</td>\n",
       "      <td>NaN</td>\n",
       "      <td>NaN</td>\n",
       "    </tr>\n",
       "    <tr>\n",
       "      <th>What is your gender?</th>\n",
       "      <td>97</td>\n",
       "      <td>10</td>\n",
       "      <td>Male</td>\n",
       "      <td>41</td>\n",
       "      <td>NaN</td>\n",
       "      <td>NaN</td>\n",
       "      <td>NaN</td>\n",
       "      <td>NaN</td>\n",
       "      <td>NaN</td>\n",
       "      <td>NaN</td>\n",
       "      <td>NaN</td>\n",
       "    </tr>\n",
       "    <tr>\n",
       "      <th>Age</th>\n",
       "      <td>97.0</td>\n",
       "      <td>NaN</td>\n",
       "      <td>NaN</td>\n",
       "      <td>NaN</td>\n",
       "      <td>22.917526</td>\n",
       "      <td>6.277722</td>\n",
       "      <td>19.0</td>\n",
       "      <td>21.0</td>\n",
       "      <td>21.0</td>\n",
       "      <td>22.0</td>\n",
       "      <td>68.0</td>\n",
       "    </tr>\n",
       "    <tr>\n",
       "      <th>What is your emotion?</th>\n",
       "      <td>96</td>\n",
       "      <td>50</td>\n",
       "      <td>Happy</td>\n",
       "      <td>16</td>\n",
       "      <td>NaN</td>\n",
       "      <td>NaN</td>\n",
       "      <td>NaN</td>\n",
       "      <td>NaN</td>\n",
       "      <td>NaN</td>\n",
       "      <td>NaN</td>\n",
       "      <td>NaN</td>\n",
       "    </tr>\n",
       "    <tr>\n",
       "      <th>Year of birth</th>\n",
       "      <td>97</td>\n",
       "      <td>18</td>\n",
       "      <td>2002</td>\n",
       "      <td>36</td>\n",
       "      <td>NaN</td>\n",
       "      <td>NaN</td>\n",
       "      <td>NaN</td>\n",
       "      <td>NaN</td>\n",
       "      <td>NaN</td>\n",
       "      <td>NaN</td>\n",
       "      <td>NaN</td>\n",
       "    </tr>\n",
       "    <tr>\n",
       "      <th>What is your CGPA?</th>\n",
       "      <td>97</td>\n",
       "      <td>61</td>\n",
       "      <td>3.5</td>\n",
       "      <td>7</td>\n",
       "      <td>NaN</td>\n",
       "      <td>NaN</td>\n",
       "      <td>NaN</td>\n",
       "      <td>NaN</td>\n",
       "      <td>NaN</td>\n",
       "      <td>NaN</td>\n",
       "      <td>NaN</td>\n",
       "    </tr>\n",
       "    <tr>\n",
       "      <th>Do you have a Girl Friend or BOY Friend</th>\n",
       "      <td>97</td>\n",
       "      <td>14</td>\n",
       "      <td>No</td>\n",
       "      <td>37</td>\n",
       "      <td>NaN</td>\n",
       "      <td>NaN</td>\n",
       "      <td>NaN</td>\n",
       "      <td>NaN</td>\n",
       "      <td>NaN</td>\n",
       "      <td>NaN</td>\n",
       "      <td>NaN</td>\n",
       "    </tr>\n",
       "    <tr>\n",
       "      <th>Do you have Depression?</th>\n",
       "      <td>97</td>\n",
       "      <td>13</td>\n",
       "      <td>No</td>\n",
       "      <td>47</td>\n",
       "      <td>NaN</td>\n",
       "      <td>NaN</td>\n",
       "      <td>NaN</td>\n",
       "      <td>NaN</td>\n",
       "      <td>NaN</td>\n",
       "      <td>NaN</td>\n",
       "      <td>NaN</td>\n",
       "    </tr>\n",
       "    <tr>\n",
       "      <th>Do you have Anxiety?</th>\n",
       "      <td>97</td>\n",
       "      <td>18</td>\n",
       "      <td>No</td>\n",
       "      <td>38</td>\n",
       "      <td>NaN</td>\n",
       "      <td>NaN</td>\n",
       "      <td>NaN</td>\n",
       "      <td>NaN</td>\n",
       "      <td>NaN</td>\n",
       "      <td>NaN</td>\n",
       "      <td>NaN</td>\n",
       "    </tr>\n",
       "    <tr>\n",
       "      <th>Do you have Panic attack?</th>\n",
       "      <td>97</td>\n",
       "      <td>13</td>\n",
       "      <td>No</td>\n",
       "      <td>43</td>\n",
       "      <td>NaN</td>\n",
       "      <td>NaN</td>\n",
       "      <td>NaN</td>\n",
       "      <td>NaN</td>\n",
       "      <td>NaN</td>\n",
       "      <td>NaN</td>\n",
       "      <td>NaN</td>\n",
       "    </tr>\n",
       "    <tr>\n",
       "      <th>Did you have seek any specialist for a treatment?</th>\n",
       "      <td>97</td>\n",
       "      <td>9</td>\n",
       "      <td>No</td>\n",
       "      <td>44</td>\n",
       "      <td>NaN</td>\n",
       "      <td>NaN</td>\n",
       "      <td>NaN</td>\n",
       "      <td>NaN</td>\n",
       "      <td>NaN</td>\n",
       "      <td>NaN</td>\n",
       "      <td>NaN</td>\n",
       "    </tr>\n",
       "  </tbody>\n",
       "</table>\n",
       "</div>"
      ],
      "text/plain": [
       "                                                   count unique  \\\n",
       "Timestamp                                             97     90   \n",
       "What is your gender?                                  97     10   \n",
       "Age                                                 97.0    NaN   \n",
       "What is your emotion?                                 96     50   \n",
       "Year of birth                                         97     18   \n",
       "What is your CGPA?                                    97     61   \n",
       "Do you have a Girl Friend or BOY Friend               97     14   \n",
       "Do you have Depression?                               97     13   \n",
       "Do you have Anxiety?                                  97     18   \n",
       "Do you have Panic attack?                             97     13   \n",
       "Did you have seek any specialist for a treatment?     97      9   \n",
       "\n",
       "                                                                    top freq  \\\n",
       "Timestamp                                           05/07/2023 09:40:42    2   \n",
       "What is your gender?                                               Male   41   \n",
       "Age                                                                 NaN  NaN   \n",
       "What is your emotion?                                             Happy   16   \n",
       "Year of birth                                                      2002   36   \n",
       "What is your CGPA?                                                  3.5    7   \n",
       "Do you have a Girl Friend or BOY Friend                              No   37   \n",
       "Do you have Depression?                                              No   47   \n",
       "Do you have Anxiety?                                                 No   38   \n",
       "Do you have Panic attack?                                            No   43   \n",
       "Did you have seek any specialist for a treatment?                    No   44   \n",
       "\n",
       "                                                         mean       std   min  \\\n",
       "Timestamp                                                 NaN       NaN   NaN   \n",
       "What is your gender?                                      NaN       NaN   NaN   \n",
       "Age                                                 22.917526  6.277722  19.0   \n",
       "What is your emotion?                                     NaN       NaN   NaN   \n",
       "Year of birth                                             NaN       NaN   NaN   \n",
       "What is your CGPA?                                        NaN       NaN   NaN   \n",
       "Do you have a Girl Friend or BOY Friend                   NaN       NaN   NaN   \n",
       "Do you have Depression?                                   NaN       NaN   NaN   \n",
       "Do you have Anxiety?                                      NaN       NaN   NaN   \n",
       "Do you have Panic attack?                                 NaN       NaN   NaN   \n",
       "Did you have seek any specialist for a treatment?         NaN       NaN   NaN   \n",
       "\n",
       "                                                     25%   50%   75%   max  \n",
       "Timestamp                                            NaN   NaN   NaN   NaN  \n",
       "What is your gender?                                 NaN   NaN   NaN   NaN  \n",
       "Age                                                 21.0  21.0  22.0  68.0  \n",
       "What is your emotion?                                NaN   NaN   NaN   NaN  \n",
       "Year of birth                                        NaN   NaN   NaN   NaN  \n",
       "What is your CGPA?                                   NaN   NaN   NaN   NaN  \n",
       "Do you have a Girl Friend or BOY Friend              NaN   NaN   NaN   NaN  \n",
       "Do you have Depression?                              NaN   NaN   NaN   NaN  \n",
       "Do you have Anxiety?                                 NaN   NaN   NaN   NaN  \n",
       "Do you have Panic attack?                            NaN   NaN   NaN   NaN  \n",
       "Did you have seek any specialist for a treatment?    NaN   NaN   NaN   NaN  "
      ]
     },
     "execution_count": 15,
     "metadata": {},
     "output_type": "execute_result"
    }
   ],
   "source": [
    "#describe statistical details of the data\n",
    "df.describe(include='all').T"
   ]
  },
  {
   "cell_type": "code",
   "execution_count": null,
   "metadata": {
    "ExecuteTime": {
     "end_time": "2023-07-06T13:15:47.031479223Z",
     "start_time": "2023-07-06T13:15:45.917432127Z"
    }
   },
   "outputs": [],
   "source": []
  }
 ],
 "metadata": {
  "kernelspec": {
   "display_name": "Python 3 (ipykernel)",
   "language": "python",
   "name": "python3"
  },
  "language_info": {
   "codemirror_mode": {
    "name": "ipython",
    "version": 3
   },
   "file_extension": ".py",
   "mimetype": "text/x-python",
   "name": "python",
   "nbconvert_exporter": "python",
   "pygments_lexer": "ipython3",
   "version": "3.11.4"
  }
 },
 "nbformat": 4,
 "nbformat_minor": 1
}
